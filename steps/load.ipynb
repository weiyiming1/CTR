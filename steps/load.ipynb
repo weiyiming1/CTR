{
 "cells": [
  {
   "cell_type": "code",
   "execution_count": 1,
   "metadata": {},
   "outputs": [],
   "source": [
    "import tensorflow as tf\n",
    "from sklearn.model_selection import train_test_split\n",
    "from sklearn.metrics import confusion_matrix\n",
    "import matplotlib as mpl\n",
    "import matplotlib.pyplot as plt\n",
    "import seaborn as sns\n",
    "import pandas as pd\n",
    "import numpy as np\n",
    "import os\n",
    "import tempfile"
   ]
  },
  {
   "cell_type": "code",
   "execution_count": 2,
   "metadata": {},
   "outputs": [],
   "source": [
    "train_file = \"./train.csv\"\n",
    "test_file = \"./test.csv\"\n",
    "num_cols = [\"ps_reg_01\", \"ps_reg_02\", \"ps_reg_03\",\"ps_car_12\", \"ps_car_13\", \"ps_car_14\", \"ps_car_15\"]\n",
    "ignore_cols = [\"id\", \"target\", \"ps_calc_01\", \"ps_calc_02\", \"ps_calc_03\", \"ps_calc_04\", \"ps_calc_05\", \n",
    "               \"ps_calc_06\", \"ps_calc_07\", \"ps_calc_08\", \"ps_calc_09\", \"ps_calc_10\", \"ps_calc_11\", \n",
    "               \"ps_calc_12\", \"ps_calc_13\", \"ps_calc_14\",\"ps_calc_15_bin\", \"ps_calc_16_bin\", \n",
    "               \"ps_calc_17_bin\",\"ps_calc_18_bin\", \"ps_calc_19_bin\", \"ps_calc_20_bin\"]"
   ]
  },
  {
   "cell_type": "code",
   "execution_count": 3,
   "metadata": {},
   "outputs": [],
   "source": [
    "cfg = {\n",
    "    \"feature_size\": None,\n",
    "    \"field_size\": None,\n",
    "    \"embed_size\": 128,\n",
    "    \"deep_nn\":[256,256],\n",
    "    \"dropout_fm\": 0,\n",
    "    \"dropout_deep\": 0.2,\n",
    "    \"output_bias\": None,\n",
    "    \"epoch\": 200,\n",
    "    \"batch\":10000,\n",
    "    \"split\": 0.2\n",
    "}"
   ]
  },
  {
   "cell_type": "code",
   "execution_count": 4,
   "metadata": {},
   "outputs": [],
   "source": [
    "def overview(cfg):    \n",
    "    dfTrain = pd.read_csv(train_file)\n",
    "    dfTest = pd.read_csv(test_file)\n",
    "    df = pd.concat([dfTrain,dfTest], sort=False)\n",
    "\n",
    "    field_size = len(df.columns) - len(ignore_cols)\n",
    "    feature_dict = {}\n",
    "    feature_size = 0\n",
    "    for col in df.columns:\n",
    "        if col in ignore_cols:\n",
    "            continue\n",
    "        elif col in num_cols:\n",
    "            feature_dict[col] = feature_size\n",
    "            feature_size += 1\n",
    "        else:\n",
    "            unique_val = df[col].unique()\n",
    "            feature_dict[col] = dict(zip(unique_val,range(feature_size,len(unique_val) + feature_size)))\n",
    "            feature_size += len(unique_val)\n",
    "    \n",
    "    cfg['field_size'] = field_size\n",
    "    cfg['feature_size'] = feature_size\n",
    "    return dfTrain, feature_dict"
   ]
  },
  {
   "cell_type": "code",
   "execution_count": 5,
   "metadata": {},
   "outputs": [],
   "source": [
    "dfTrain, feature_dict = overview(cfg)"
   ]
  },
  {
   "cell_type": "code",
   "execution_count": 6,
   "metadata": {},
   "outputs": [],
   "source": [
    "def preprocess(train_df, feature_dict, cfg):\n",
    "    label_df = train_df[['target']]  \n",
    "    neg, pos = np.bincount(label_df.values.flatten())\n",
    "    cfg['output_bias'] = np.log([pos/neg])\n",
    "    train_df.drop(['target','id'],axis=1,inplace=True)\n",
    "    feature_idx = train_df.copy()\n",
    "    feature_val = train_df.copy()\n",
    "    for col in feature_idx.columns:\n",
    "        if col in ignore_cols:\n",
    "            feature_idx.drop(col,axis=1,inplace=True)\n",
    "            feature_val.drop(col,axis=1,inplace=True)\n",
    "            continue\n",
    "        elif col in num_cols:\n",
    "            feature_idx[col] = feature_dict[col]\n",
    "        else:\n",
    "            feature_idx[col] = feature_idx[col].map(feature_dict[col])\n",
    "            feature_val[col] = 1      \n",
    "            \n",
    "    train_idx_df, test_idx_df = train_test_split(feature_idx, test_size=cfg[\"split\"])\n",
    "    train_val_df, test_val_df = train_test_split(feature_val, test_size=cfg[\"split\"])\n",
    "    train_label_df, test_label_df = train_test_split(label_df, test_size=cfg[\"split\"])\n",
    "    \n",
    "    train_idx_df, validate_idx_df = train_test_split(train_idx_df, test_size=cfg[\"split\"])\n",
    "    train_val_df, validate_val_df = train_test_split(train_val_df, test_size=cfg[\"split\"])\n",
    "    train_label_df, validate_label_df = train_test_split(train_label_df, test_size=cfg[\"split\"])\n",
    "    \n",
    "    train_input = [train_idx_df.values, train_val_df.values]\n",
    "    train_label = np.array(train_label_df['target'])\n",
    "    bool_train_labels = train_label != 0\n",
    "    \n",
    "    validate_input = [validate_idx_df.values, validate_val_df.values]\n",
    "    validate_label = validate_label_df.values\n",
    "    \n",
    "    test_input = [test_idx_df.values, test_val_df.values]\n",
    "    test_label = test_label_df.values\n",
    "    \n",
    "    return train_input, train_label, bool_train_labels, validate_input, validate_label, test_input, test_label"
   ]
  },
  {
   "cell_type": "code",
   "execution_count": 7,
   "metadata": {},
   "outputs": [],
   "source": [
    "train_input, train_label, bool_train_labels, validate_input, validate_label, test_input, test_label = preprocess(dfTrain, feature_dict, cfg)"
   ]
  },
  {
   "cell_type": "code",
   "execution_count": 8,
   "metadata": {},
   "outputs": [],
   "source": [
    "def oversample(train_input, train_label, bool_train_labels):\n",
    "    pos_idx = train_input[0][bool_train_labels]\n",
    "    neg_idx = train_input[0][~bool_train_labels]\n",
    "    pos_val = train_input[1][bool_train_labels]\n",
    "    neg_val = train_input[1][~bool_train_labels]\n",
    "    pos_label = train_label[bool_train_labels]\n",
    "    neg_label = train_label[~bool_train_labels]\n",
    "    \n",
    "    ids = np.arange(len(pos_idx))\n",
    "    choices = np.random.choice(ids, len(neg_idx))\n",
    "    \n",
    "    res_pos_idx = pos_idx[choices]\n",
    "    res_pos_val = pos_val[choices]\n",
    "    res_pos_label = pos_label[choices]\n",
    "    \n",
    "    resampled_idx = np.concatenate([res_pos_idx, neg_idx], axis=0)\n",
    "    resampled_val = np.concatenate([res_pos_val, neg_val], axis=0)\n",
    "    resampled_label = np.concatenate([res_pos_label, neg_label], axis=0)\n",
    "\n",
    "    order = np.arange(len(resampled_label))\n",
    "    np.random.shuffle(order)    \n",
    "    return [resampled_idx[order], resampled_val[order]], resampled_label[order]"
   ]
  },
  {
   "cell_type": "code",
   "execution_count": 9,
   "metadata": {},
   "outputs": [],
   "source": [
    "res_train_input, res_train_label = oversample(train_input, train_label, bool_train_labels)"
   ]
  },
  {
   "cell_type": "code",
   "execution_count": 10,
   "metadata": {},
   "outputs": [],
   "source": [
    "class DeepFM(tf.keras.Model):\n",
    "    def __init__(self, cfg):\n",
    "        super(DeepFM, self).__init__()\n",
    "        self.feature_size = cfg['feature_size']\n",
    "        self.field_size = cfg['field_size']\n",
    "        self.embed_size = cfg['embed_size']\n",
    "        self.deep_nn = cfg['deep_nn']\n",
    "        \n",
    "        self.dropout_fm = cfg['dropout_fm']\n",
    "        self.dropout_deep = cfg['dropout_deep']\n",
    "        \n",
    "        # fm        \n",
    "        self.feature_weight = tf.keras.layers.Embedding(cfg['feature_size'], 1)\n",
    "        self.feature_embed = tf.keras.layers.Embedding(cfg['feature_size'], cfg['embed_size'])\n",
    "\n",
    "        # dnn\n",
    "        for layer in range(len(cfg['deep_nn'])):\n",
    "            setattr(self, 'dense_' + str(layer), tf.keras.layers.Dense(self.deep_nn[layer]))\n",
    "            setattr(self, 'batchNorm_' + str(layer), tf.keras.layers.BatchNormalization())\n",
    "            setattr(self, 'activation_' + str(layer), tf.keras.layers.Activation('relu'))\n",
    "            setattr(self, 'dropout_' + str(layer), tf.keras.layers.Dropout(self.dropout_deep))\n",
    "            \n",
    "        self.fc = tf.keras.layers.Dense(1, activation='sigmoid', \n",
    "                                        bias_initializer=tf.keras.initializers.Constant(cfg['output_bias']))\n",
    "\n",
    "    def call(self, inputs, training=True):\n",
    "        # inputs = [feature_idx, feature_val]\n",
    "        reshaped_feature_val = tf.cast(tf.reshape(inputs[1], shape=[-1,self.field_size,1]), tf.float32)\n",
    "        # linear        \n",
    "        weights = self.feature_weight(inputs[0])\n",
    "        linear = tf.reduce_sum(tf.multiply(weights,reshaped_feature_val),2)\n",
    "        \n",
    "        # fm  \n",
    "        embeddings = self.feature_embed(inputs[0])\n",
    "        second_inner = tf.multiply(embeddings,reshaped_feature_val)\n",
    "        \n",
    "        summed_features_emb = tf.reduce_sum(second_inner,1)\n",
    "        summed_features_emb_square = tf.square(summed_features_emb)\n",
    "        \n",
    "        squared_features_emb = tf.square(second_inner)\n",
    "        squared_sum_features_emb = tf.reduce_sum(squared_features_emb,1)\n",
    "        \n",
    "        fm = 0.5 * tf.subtract(summed_features_emb_square,squared_sum_features_emb)\n",
    "        \n",
    "        # dnn\n",
    "        y_deep = tf.reshape(embeddings,shape=[-1,self.field_size * self.embed_size])\n",
    "        for layer in range(0, len(self.deep_nn)):\n",
    "            y_deep = getattr(self, 'dense_' + str(layer))(y_deep)\n",
    "            y_deep = getattr(self, 'batchNorm_' + str(layer))(y_deep, training=training)\n",
    "            y_deep = getattr(self, 'activation_' + str(layer))(y_deep)\n",
    "            y_deep = getattr(self, 'dropout_' + str(layer))(y_deep, training=training)\n",
    "            \n",
    "        # concat\n",
    "        concat = tf.concat([linear, fm, y_deep], axis=1)                                \n",
    "        out = self.fc(concat)\n",
    "        return out"
   ]
  },
  {
   "cell_type": "code",
   "execution_count": 11,
   "metadata": {},
   "outputs": [],
   "source": [
    "early_stopping = tf.keras.callbacks.EarlyStopping(monitor='val_auc', verbose=1, patience=10, mode='max',restore_best_weights=True)\n",
    "metrics = [tf.keras.metrics.TruePositives(name='tp'),\n",
    "           tf.keras.metrics.FalsePositives(name='fp'),\n",
    "           tf.keras.metrics.TrueNegatives(name='tn'),\n",
    "           tf.keras.metrics.FalseNegatives(name='fn'), \n",
    "           tf.keras.metrics.BinaryAccuracy(name='bin_acc'),\n",
    "           tf.keras.metrics.Precision(name='precision'),\n",
    "           tf.keras.metrics.Recall(name='recall'),\n",
    "           tf.keras.metrics.AUC(name='auc')]"
   ]
  },
  {
   "cell_type": "code",
   "execution_count": 31,
   "metadata": {},
   "outputs": [
    {
     "name": "stdout",
     "output_type": "stream",
     "text": [
      "Train on 733992 samples, validate on 95234 samples\n",
      "Epoch 1/200\n",
      "733992/733992 [==============================] - 16s 21us/sample - loss: 0.6925 - tp: 16488.0000 - fp: 10261.0000 - tn: 356735.0000 - fn: 350508.0000 - bin_acc: 0.5085 - precision: 0.6164 - recall: 0.0449 - auc: 0.5154 - val_loss: 0.8447 - val_tp: 890.0000 - val_fp: 24140.0000 - val_tn: 67650.0000 - val_fn: 2554.0000 - val_bin_acc: 0.7197 - val_precision: 0.0356 - val_recall: 0.2584 - val_auc: 0.4950\n",
      "Epoch 2/200\n",
      "733992/733992 [==============================] - 13s 17us/sample - loss: 0.6837 - tp: 32683.0000 - fp: 9346.0000 - tn: 357650.0000 - fn: 334313.0000 - bin_acc: 0.5318 - precision: 0.7776 - recall: 0.0891 - auc: 0.5385 - val_loss: 0.7592 - val_tp: 360.0000 - val_fp: 9898.0000 - val_tn: 81892.0000 - val_fn: 3084.0000 - val_bin_acc: 0.8637 - val_precision: 0.0351 - val_recall: 0.1045 - val_auc: 0.4986\n",
      "Epoch 3/200\n",
      "733992/733992 [==============================] - 13s 17us/sample - loss: 0.6764 - tp: 54118.0000 - fp: 13679.0000 - tn: 353317.0000 - fn: 312878.0000 - bin_acc: 0.5551 - precision: 0.7982 - recall: 0.1475 - auc: 0.5616 - val_loss: 0.7209 - val_tp: 167.0000 - val_fp: 3999.0000 - val_tn: 87791.0000 - val_fn: 3277.0000 - val_bin_acc: 0.9236 - val_precision: 0.0401 - val_recall: 0.0485 - val_auc: 0.5005\n",
      "Epoch 4/200\n",
      "733992/733992 [==============================] - 12s 17us/sample - loss: 0.6697 - tp: 72375.0000 - fp: 16720.0000 - tn: 350276.0000 - fn: 294621.0000 - bin_acc: 0.5758 - precision: 0.8123 - recall: 0.1972 - auc: 0.5828 - val_loss: 0.7172 - val_tp: 120.0000 - val_fp: 3430.0000 - val_tn: 88360.0000 - val_fn: 3324.0000 - val_bin_acc: 0.9291 - val_precision: 0.0338 - val_recall: 0.0348 - val_auc: 0.5021\n",
      "Epoch 5/200\n",
      "733992/733992 [==============================] - 13s 18us/sample - loss: 0.6639 - tp: 87877.0000 - fp: 19084.0000 - tn: 347912.0000 - fn: 279119.0000 - bin_acc: 0.5937 - precision: 0.8216 - recall: 0.2394 - auc: 0.6011 - val_loss: 0.7100 - val_tp: 83.0000 - val_fp: 2313.0000 - val_tn: 89477.0000 - val_fn: 3361.0000 - val_bin_acc: 0.9404 - val_precision: 0.0346 - val_recall: 0.0241 - val_auc: 0.4994\n",
      "Epoch 6/200\n",
      "733992/733992 [==============================] - 13s 18us/sample - loss: 0.6592 - tp: 99632.0000 - fp: 20847.0000 - tn: 346149.0000 - fn: 267364.0000 - bin_acc: 0.6073 - precision: 0.8270 - recall: 0.2715 - auc: 0.6171 - val_loss: 0.7307 - val_tp: 199.0000 - val_fp: 5495.0000 - val_tn: 86295.0000 - val_fn: 3245.0000 - val_bin_acc: 0.9082 - val_precision: 0.0349 - val_recall: 0.0578 - val_auc: 0.4988\n",
      "Epoch 7/200\n",
      "733992/733992 [==============================] - 14s 19us/sample - loss: 0.6548 - tp: 109699.0000 - fp: 21714.0000 - tn: 345282.0000 - fn: 257297.0000 - bin_acc: 0.6199 - precision: 0.8348 - recall: 0.2989 - auc: 0.6306 - val_loss: 0.7197 - val_tp: 130.0000 - val_fp: 3882.0000 - val_tn: 87908.0000 - val_fn: 3314.0000 - val_bin_acc: 0.9244 - val_precision: 0.0324 - val_recall: 0.0377 - val_auc: 0.4983\n",
      "Epoch 8/200\n",
      "733992/733992 [==============================] - 13s 17us/sample - loss: 0.6505 - tp: 120361.0000 - fp: 23025.0000 - tn: 343971.0000 - fn: 246635.0000 - bin_acc: 0.6326 - precision: 0.8394 - recall: 0.3280 - auc: 0.6450 - val_loss: 0.7352 - val_tp: 237.0000 - val_fp: 6289.0000 - val_tn: 85501.0000 - val_fn: 3207.0000 - val_bin_acc: 0.9003 - val_precision: 0.0363 - val_recall: 0.0688 - val_auc: 0.4984\n",
      "Epoch 9/200\n",
      "733992/733992 [==============================] - 11s 15us/sample - loss: 0.6471 - tp: 128216.0000 - fp: 23684.0000 - tn: 343312.0000 - fn: 238780.0000 - bin_acc: 0.6424 - precision: 0.8441 - recall: 0.3494 - auc: 0.6557 - val_loss: 0.7430 - val_tp: 281.0000 - val_fp: 7541.0000 - val_tn: 84249.0000 - val_fn: 3163.0000 - val_bin_acc: 0.8876 - val_precision: 0.0359 - val_recall: 0.0816 - val_auc: 0.5010\n",
      "Epoch 10/200\n",
      "733992/733992 [==============================] - 11s 15us/sample - loss: 0.6437 - tp: 135499.0000 - fp: 24123.0000 - tn: 342873.0000 - fn: 231497.0000 - bin_acc: 0.6517 - precision: 0.8489 - recall: 0.3692 - auc: 0.6665 - val_loss: 0.7178 - val_tp: 149.0000 - val_fp: 3642.0000 - val_tn: 88148.0000 - val_fn: 3295.0000 - val_bin_acc: 0.9272 - val_precision: 0.0393 - val_recall: 0.0433 - val_auc: 0.5019\n",
      "Epoch 11/200\n",
      "733992/733992 [==============================] - 12s 16us/sample - loss: 0.6406 - tp: 142521.0000 - fp: 24912.0000 - tn: 342084.0000 - fn: 224475.0000 - bin_acc: 0.6602 - precision: 0.8512 - recall: 0.3883 - auc: 0.6758 - val_loss: 0.7163 - val_tp: 123.0000 - val_fp: 3423.0000 - val_tn: 88367.0000 - val_fn: 3321.0000 - val_bin_acc: 0.9292 - val_precision: 0.0347 - val_recall: 0.0357 - val_auc: 0.4986\n",
      "Epoch 12/200\n",
      "733992/733992 [==============================] - 12s 16us/sample - loss: 0.6379 - tp: 148189.0000 - fp: 24953.0000 - tn: 342043.0000 - fn: 218807.0000 - bin_acc: 0.6679 - precision: 0.8559 - recall: 0.4038 - auc: 0.6844 - val_loss: 0.7286 - val_tp: 182.0000 - val_fp: 5368.0000 - val_tn: 86422.0000 - val_fn: 3262.0000 - val_bin_acc: 0.9094 - val_precision: 0.0328 - val_recall: 0.0528 - val_auc: 0.4945\n",
      "Epoch 13/200\n",
      "733992/733992 [==============================] - 11s 16us/sample - loss: 0.6353 - tp: 153320.0000 - fp: 25099.0000 - tn: 341897.0000 - fn: 213676.0000 - bin_acc: 0.6747 - precision: 0.8593 - recall: 0.4178 - auc: 0.6924 - val_loss: 0.7040 - val_tp: 59.0000 - val_fp: 1552.0000 - val_tn: 90238.0000 - val_fn: 3385.0000 - val_bin_acc: 0.9482 - val_precision: 0.0366 - val_recall: 0.0171 - val_auc: 0.4986\n",
      "Epoch 14/200\n",
      "730000/733992 [============================>.] - ETA: 0s - loss: 0.6326 - tp: 158204.0000 - fp: 25194.0000 - tn: 339769.0000 - fn: 206833.0000 - bin_acc: 0.6822 - precision: 0.8626 - recall: 0.4334 - auc: 0.6999Restoring model weights from the end of the best epoch.\n",
      "733992/733992 [==============================] - 12s 16us/sample - loss: 0.6326 - tp: 159078.0000 - fp: 25369.0000 - tn: 341627.0000 - fn: 207918.0000 - bin_acc: 0.6822 - precision: 0.8625 - recall: 0.4335 - auc: 0.6998 - val_loss: 0.7234 - val_tp: 164.0000 - val_fp: 4548.0000 - val_tn: 87242.0000 - val_fn: 3280.0000 - val_bin_acc: 0.9178 - val_precision: 0.0348 - val_recall: 0.0476 - val_auc: 0.5019\n",
      "Epoch 00014: early stopping\n"
     ]
    },
    {
     "data": {
      "text/plain": [
       "<tensorflow.python.keras.callbacks.History at 0x7fcbfe440080>"
      ]
     },
     "execution_count": 31,
     "metadata": {},
     "output_type": "execute_result"
    }
   ],
   "source": [
    "model = DeepFM(cfg)\n",
    "model.load_weights('init_params/weights')\n",
    "# model.compile(optimizer = 'adam', loss='binary_crossentropy', metrics=['binary_accuracy'])\n",
    "model.compile(optimizer = tf.keras.optimizers.Adam(lr=1e-3), \n",
    "              loss=tf.keras.losses.BinaryCrossentropy(from_logits=True), \n",
    "              metrics=metrics)\n",
    "model.fit(res_train_input, res_train_label, epochs=cfg['epoch'], batch_size=cfg['batch'], shuffle=True, \n",
    "          verbose=1, callbacks = [early_stopping], validation_data=(validate_input, validate_label))"
   ]
  },
  {
   "cell_type": "code",
   "execution_count": 16,
   "metadata": {},
   "outputs": [],
   "source": [
    "test_predict = model.predict(test_input, batch_size=cfg['batch'])"
   ]
  },
  {
   "cell_type": "code",
   "execution_count": 20,
   "metadata": {},
   "outputs": [],
   "source": [
    "def plot_cm(labels, predictions, p=0.5):\n",
    "    cm = confusion_matrix(labels, predictions > p)\n",
    "    plt.figure(figsize=(5,5))\n",
    "    sns.heatmap(cm, annot=True, fmt=\"d\")\n",
    "    plt.title('Confusion matrix @{:.2f}'.format(p))\n",
    "    plt.ylabel('Actual label')\n",
    "    plt.xlabel('Predicted label')\n",
    "    \n",
    "    print('Legitimate Transactions Detected (True Negatives): ', cm[0][0])\n",
    "    print('Legitimate Transactions Incorrectly Detected (False Positives): ', cm[0][1])\n",
    "    print('Fraudulent Transactions Missed (False Negatives): ', cm[1][0])\n",
    "    print('Fraudulent Transactions Detected (True Positives): ', cm[1][1])\n",
    "    print('Total Fraudulent Transactions: ', np.sum(cm[1]))"
   ]
  },
  {
   "cell_type": "code",
   "execution_count": 21,
   "metadata": {},
   "outputs": [
    {
     "name": "stdout",
     "output_type": "stream",
     "text": [
      "loss :  0.7108537666722112\n",
      "tp :  116.0\n",
      "fp :  3282.0\n",
      "tn :  111450.0\n",
      "fn :  4195.0\n",
      "bin_acc :  0.9371908\n",
      "precision :  0.03413773\n",
      "recall :  0.02690791\n",
      "auc :  0.49842232\n",
      "\n",
      "Legitimate Transactions Detected (True Negatives):  111450\n",
      "Legitimate Transactions Incorrectly Detected (False Positives):  3282\n",
      "Fraudulent Transactions Missed (False Negatives):  4195\n",
      "Fraudulent Transactions Detected (True Positives):  116\n",
      "Total Fraudulent Transactions:  4311\n"
     ]
    },
    {
     "data": {
      "image/png": "[encoded data removed]",
      "text/plain": [
       "<Figure size 360x360 with 2 Axes>"
      ]
     },
     "metadata": {
      "needs_background": "light"
     },
     "output_type": "display_data"
    }
   ],
   "source": [
    "test_results = model.evaluate(test_input, test_label, batch_size=cfg['batch'], verbose=0)\n",
    "for name, value in zip(model.metrics_names, test_results):\n",
    "    print(name, ': ', value)\n",
    "print()\n",
    "\n",
    "plot_cm(test_label, test_predict)"
   ]
  },
  {
   "cell_type": "code",
   "execution_count": 17,
   "metadata": {},
   "outputs": [
    {
     "data": {
      "text/html": [
       "<div>\n",
       "<style scoped>\n",
       "    .dataframe tbody tr th:only-of-type {\n",
       "        vertical-align: middle;\n",
       "    }\n",
       "\n",
       "    .dataframe tbody tr th {\n",
       "        vertical-align: top;\n",
       "    }\n",
       "\n",
       "    .dataframe thead th {\n",
       "        text-align: right;\n",
       "    }\n",
       "</style>\n",
       "<table border=\"1\" class=\"dataframe\">\n",
       "  <thead>\n",
       "    <tr style=\"text-align: right;\">\n",
       "      <th></th>\n",
       "      <th>predict</th>\n",
       "      <th>true</th>\n",
       "    </tr>\n",
       "  </thead>\n",
       "  <tbody>\n",
       "    <tr>\n",
       "      <th>14896</th>\n",
       "      <td>1.000000</td>\n",
       "      <td>1</td>\n",
       "    </tr>\n",
       "    <tr>\n",
       "      <th>45540</th>\n",
       "      <td>1.000000</td>\n",
       "      <td>1</td>\n",
       "    </tr>\n",
       "    <tr>\n",
       "      <th>52188</th>\n",
       "      <td>1.000000</td>\n",
       "      <td>1</td>\n",
       "    </tr>\n",
       "    <tr>\n",
       "      <th>7873</th>\n",
       "      <td>0.999997</td>\n",
       "      <td>1</td>\n",
       "    </tr>\n",
       "    <tr>\n",
       "      <th>15672</th>\n",
       "      <td>0.999988</td>\n",
       "      <td>1</td>\n",
       "    </tr>\n",
       "    <tr>\n",
       "      <th>...</th>\n",
       "      <td>...</td>\n",
       "      <td>...</td>\n",
       "    </tr>\n",
       "    <tr>\n",
       "      <th>91740</th>\n",
       "      <td>0.160829</td>\n",
       "      <td>1</td>\n",
       "    </tr>\n",
       "    <tr>\n",
       "      <th>104640</th>\n",
       "      <td>0.159829</td>\n",
       "      <td>1</td>\n",
       "    </tr>\n",
       "    <tr>\n",
       "      <th>56736</th>\n",
       "      <td>0.159499</td>\n",
       "      <td>1</td>\n",
       "    </tr>\n",
       "    <tr>\n",
       "      <th>4643</th>\n",
       "      <td>0.157478</td>\n",
       "      <td>1</td>\n",
       "    </tr>\n",
       "    <tr>\n",
       "      <th>106185</th>\n",
       "      <td>0.156889</td>\n",
       "      <td>1</td>\n",
       "    </tr>\n",
       "  </tbody>\n",
       "</table>\n",
       "<p>182 rows × 2 columns</p>\n",
       "</div>"
      ],
      "text/plain": [
       "         predict  true\n",
       "14896   1.000000     1\n",
       "45540   1.000000     1\n",
       "52188   1.000000     1\n",
       "7873    0.999997     1\n",
       "15672   0.999988     1\n",
       "...          ...   ...\n",
       "91740   0.160829     1\n",
       "104640  0.159829     1\n",
       "56736   0.159499     1\n",
       "4643    0.157478     1\n",
       "106185  0.156889     1\n",
       "\n",
       "[182 rows x 2 columns]"
      ]
     },
     "execution_count": 17,
     "metadata": {},
     "output_type": "execute_result"
    }
   ],
   "source": [
    "check_pd = pd.concat([pd.DataFrame(test_predict), pd.DataFrame(test_label)], axis=1)\n",
    "check_pd.columns = ['predict', 'true']\n",
    "sort = check_pd.sort_values(by=[\"true\",\"predict\"],ascending=False)\n",
    "sort[:182]"
   ]
  },
  {
   "cell_type": "code",
   "execution_count": 33,
   "metadata": {},
   "outputs": [
    {
     "name": "stdout",
     "output_type": "stream",
     "text": [
      "INFO:tensorflow:Assets written to: try.tf/assets\n"
     ]
    }
   ],
   "source": [
    "tf.keras.models.save_model(model, 'try.tf', overwrite=True, include_optimizer=True)"
   ]
  },
  {
   "cell_type": "code",
   "execution_count": 37,
   "metadata": {},
   "outputs": [
    {
     "name": "stdout",
     "output_type": "stream",
     "text": [
      "Model: \"deep_fm_3\"\n",
      "_________________________________________________________________\n",
      "Layer (type)                 Output Shape              Param #   \n",
      "=================================================================\n",
      "embedding_6 (Embedding)      multiple                  257       \n",
      "_________________________________________________________________\n",
      "embedding_7 (Embedding)      multiple                  32896     \n",
      "_________________________________________________________________\n",
      "dense_9 (Dense)              multiple                  1212672   \n",
      "_________________________________________________________________\n",
      "batch_normalization_6 (Batch multiple                  1024      \n",
      "_________________________________________________________________\n",
      "activation_6 (Activation)    multiple                  0         \n",
      "_________________________________________________________________\n",
      "dropout_6 (Dropout)          multiple                  0         \n",
      "_________________________________________________________________\n",
      "dense_10 (Dense)             multiple                  65792     \n",
      "_________________________________________________________________\n",
      "batch_normalization_7 (Batch multiple                  1024      \n",
      "_________________________________________________________________\n",
      "activation_7 (Activation)    multiple                  0         \n",
      "_________________________________________________________________\n",
      "dropout_7 (Dropout)          multiple                  0         \n",
      "_________________________________________________________________\n",
      "dense_11 (Dense)             multiple                  422       \n",
      "=================================================================\n",
      "Total params: 1,314,087\n",
      "Trainable params: 1,313,063\n",
      "Non-trainable params: 1,024\n",
      "_________________________________________________________________\n"
     ]
    }
   ],
   "source": [
    "model.summary()"
   ]
  },
  {
   "cell_type": "code",
   "execution_count": 38,
   "metadata": {},
   "outputs": [],
   "source": [
    "del model"
   ]
  },
  {
   "cell_type": "code",
   "execution_count": 39,
   "metadata": {},
   "outputs": [],
   "source": [
    "demo_model = tf.keras.models.load_model('try.tf', compile=False)"
   ]
  },
  {
   "cell_type": "code",
   "execution_count": 41,
   "metadata": {},
   "outputs": [
    {
     "ename": "AttributeError",
     "evalue": "'DeepFM' object has no attribute 'loss'",
     "output_type": "error",
     "traceback": [
      "\u001b[0;31m---------------------------------------------------------------------------\u001b[0m",
      "\u001b[0;31mAttributeError\u001b[0m                            Traceback (most recent call last)",
      "\u001b[0;32m<ipython-input-41-461ff51fef1d>\u001b[0m in \u001b[0;36m<module>\u001b[0;34m\u001b[0m\n\u001b[0;32m----> 1\u001b[0;31m \u001b[0mtest_predict\u001b[0m \u001b[0;34m=\u001b[0m \u001b[0mdemo_model\u001b[0m\u001b[0;34m.\u001b[0m\u001b[0mpredict\u001b[0m\u001b[0;34m(\u001b[0m\u001b[0mtest_input\u001b[0m\u001b[0;34m,\u001b[0m \u001b[0mbatch_size\u001b[0m\u001b[0;34m=\u001b[0m\u001b[0mcfg\u001b[0m\u001b[0;34m[\u001b[0m\u001b[0;34m'batch'\u001b[0m\u001b[0;34m]\u001b[0m\u001b[0;34m)\u001b[0m\u001b[0;34m\u001b[0m\u001b[0;34m\u001b[0m\u001b[0m\n\u001b[0m",
      "\u001b[0;32m~/anaconda3/envs/tf2/lib/python3.7/site-packages/tensorflow_core/python/keras/engine/training.py\u001b[0m in \u001b[0;36mpredict\u001b[0;34m(self, x, batch_size, verbose, steps, callbacks, max_queue_size, workers, use_multiprocessing)\u001b[0m\n\u001b[1;32m    907\u001b[0m         \u001b[0mmax_queue_size\u001b[0m\u001b[0;34m=\u001b[0m\u001b[0mmax_queue_size\u001b[0m\u001b[0;34m,\u001b[0m\u001b[0;34m\u001b[0m\u001b[0;34m\u001b[0m\u001b[0m\n\u001b[1;32m    908\u001b[0m         \u001b[0mworkers\u001b[0m\u001b[0;34m=\u001b[0m\u001b[0mworkers\u001b[0m\u001b[0;34m,\u001b[0m\u001b[0;34m\u001b[0m\u001b[0;34m\u001b[0m\u001b[0m\n\u001b[0;32m--> 909\u001b[0;31m         use_multiprocessing=use_multiprocessing)\n\u001b[0m\u001b[1;32m    910\u001b[0m \u001b[0;34m\u001b[0m\u001b[0m\n\u001b[1;32m    911\u001b[0m   \u001b[0;32mdef\u001b[0m \u001b[0mreset_metrics\u001b[0m\u001b[0;34m(\u001b[0m\u001b[0mself\u001b[0m\u001b[0;34m)\u001b[0m\u001b[0;34m:\u001b[0m\u001b[0;34m\u001b[0m\u001b[0;34m\u001b[0m\u001b[0m\n",
      "\u001b[0;32m~/anaconda3/envs/tf2/lib/python3.7/site-packages/tensorflow_core/python/keras/engine/training_arrays.py\u001b[0m in \u001b[0;36mpredict\u001b[0;34m(self, model, x, batch_size, verbose, steps, callbacks, **kwargs)\u001b[0m\n\u001b[1;32m    713\u001b[0m     \u001b[0mbatch_size\u001b[0m \u001b[0;34m=\u001b[0m \u001b[0mmodel\u001b[0m\u001b[0;34m.\u001b[0m\u001b[0m_validate_or_infer_batch_size\u001b[0m\u001b[0;34m(\u001b[0m\u001b[0mbatch_size\u001b[0m\u001b[0;34m,\u001b[0m \u001b[0msteps\u001b[0m\u001b[0;34m,\u001b[0m \u001b[0mx\u001b[0m\u001b[0;34m)\u001b[0m\u001b[0;34m\u001b[0m\u001b[0;34m\u001b[0m\u001b[0m\n\u001b[1;32m    714\u001b[0m     x, _, _ = model._standardize_user_data(\n\u001b[0;32m--> 715\u001b[0;31m         x, check_steps=True, steps_name='steps', steps=steps)\n\u001b[0m\u001b[1;32m    716\u001b[0m     return predict_loop(\n\u001b[1;32m    717\u001b[0m         \u001b[0mmodel\u001b[0m\u001b[0;34m,\u001b[0m\u001b[0;34m\u001b[0m\u001b[0;34m\u001b[0m\u001b[0m\n",
      "\u001b[0;32m~/anaconda3/envs/tf2/lib/python3.7/site-packages/tensorflow_core/python/keras/engine/training.py\u001b[0m in \u001b[0;36m_standardize_user_data\u001b[0;34m(self, x, y, sample_weight, class_weight, batch_size, check_steps, steps_name, steps, validation_split, shuffle, extract_tensors_from_dataset)\u001b[0m\n\u001b[1;32m   2431\u001b[0m     \u001b[0mis_compile_called\u001b[0m \u001b[0;34m=\u001b[0m \u001b[0;32mFalse\u001b[0m\u001b[0;34m\u001b[0m\u001b[0;34m\u001b[0m\u001b[0m\n\u001b[1;32m   2432\u001b[0m     \u001b[0;32mif\u001b[0m \u001b[0;32mnot\u001b[0m \u001b[0mself\u001b[0m\u001b[0;34m.\u001b[0m\u001b[0m_is_compiled\u001b[0m \u001b[0;32mand\u001b[0m \u001b[0mself\u001b[0m\u001b[0;34m.\u001b[0m\u001b[0moptimizer\u001b[0m\u001b[0;34m:\u001b[0m\u001b[0;34m\u001b[0m\u001b[0;34m\u001b[0m\u001b[0m\n\u001b[0;32m-> 2433\u001b[0;31m       \u001b[0mself\u001b[0m\u001b[0;34m.\u001b[0m\u001b[0m_compile_from_inputs\u001b[0m\u001b[0;34m(\u001b[0m\u001b[0mall_inputs\u001b[0m\u001b[0;34m,\u001b[0m \u001b[0my_input\u001b[0m\u001b[0;34m,\u001b[0m \u001b[0mx\u001b[0m\u001b[0;34m,\u001b[0m \u001b[0my\u001b[0m\u001b[0;34m)\u001b[0m\u001b[0;34m\u001b[0m\u001b[0;34m\u001b[0m\u001b[0m\n\u001b[0m\u001b[1;32m   2434\u001b[0m       \u001b[0mis_compile_called\u001b[0m \u001b[0;34m=\u001b[0m \u001b[0;32mTrue\u001b[0m\u001b[0;34m\u001b[0m\u001b[0;34m\u001b[0m\u001b[0m\n\u001b[1;32m   2435\u001b[0m \u001b[0;34m\u001b[0m\u001b[0m\n",
      "\u001b[0;32m~/anaconda3/envs/tf2/lib/python3.7/site-packages/tensorflow_core/python/keras/engine/training.py\u001b[0m in \u001b[0;36m_compile_from_inputs\u001b[0;34m(self, all_inputs, target, orig_inputs, orig_target)\u001b[0m\n\u001b[1;32m   2659\u001b[0m     self.compile(\n\u001b[1;32m   2660\u001b[0m         \u001b[0moptimizer\u001b[0m\u001b[0;34m=\u001b[0m\u001b[0mself\u001b[0m\u001b[0;34m.\u001b[0m\u001b[0moptimizer\u001b[0m\u001b[0;34m,\u001b[0m\u001b[0;34m\u001b[0m\u001b[0;34m\u001b[0m\u001b[0m\n\u001b[0;32m-> 2661\u001b[0;31m         \u001b[0mloss\u001b[0m\u001b[0;34m=\u001b[0m\u001b[0mself\u001b[0m\u001b[0;34m.\u001b[0m\u001b[0mloss\u001b[0m\u001b[0;34m,\u001b[0m\u001b[0;34m\u001b[0m\u001b[0;34m\u001b[0m\u001b[0m\n\u001b[0m\u001b[1;32m   2662\u001b[0m         \u001b[0mmetrics\u001b[0m\u001b[0;34m=\u001b[0m\u001b[0mself\u001b[0m\u001b[0;34m.\u001b[0m\u001b[0m_compile_metrics\u001b[0m\u001b[0;34m,\u001b[0m\u001b[0;34m\u001b[0m\u001b[0;34m\u001b[0m\u001b[0m\n\u001b[1;32m   2663\u001b[0m         \u001b[0mweighted_metrics\u001b[0m\u001b[0;34m=\u001b[0m\u001b[0mself\u001b[0m\u001b[0;34m.\u001b[0m\u001b[0m_compile_weighted_metrics\u001b[0m\u001b[0;34m,\u001b[0m\u001b[0;34m\u001b[0m\u001b[0;34m\u001b[0m\u001b[0m\n",
      "\u001b[0;31mAttributeError\u001b[0m: 'DeepFM' object has no attribute 'loss'"
     ]
    }
   ],
   "source": [
    "test_predict = demo_model.predict(test_input, batch_size=cfg['batch'])"
   ]
  },
  {
   "cell_type": "code",
   "execution_count": null,
   "metadata": {},
   "outputs": [],
   "source": []
  }
 ],
 "metadata": {
  "kernelspec": {
   "display_name": "Python 3",
   "language": "python",
   "name": "python3"
  },
  "language_info": {
   "codemirror_mode": {
    "name": "ipython",
    "version": 3
   },
   "file_extension": ".py",
   "mimetype": "text/x-python",
   "name": "python",
   "nbconvert_exporter": "python",
   "pygments_lexer": "ipython3",
   "version": "3.7.3"
  }
 },
 "nbformat": 4,
 "nbformat_minor": 4
}
