{
 "cells": [
  {
   "cell_type": "code",
   "execution_count": 1,
   "metadata": {},
   "outputs": [],
   "source": [
    "import tensorflow as tf\n",
    "import pandas as pd\n",
    "import numpy as np\n",
    "from matplotlib import pyplot as plt"
   ]
  },
  {
   "cell_type": "code",
   "execution_count": 2,
   "metadata": {},
   "outputs": [],
   "source": [
    "train_file = \"./train.csv\"\n",
    "test_file = \"./test.csv\""
   ]
  },
  {
   "cell_type": "code",
   "execution_count": 3,
   "metadata": {},
   "outputs": [],
   "source": [
    "def preprocess(train_file, test_file):\n",
    "    dfTrain = pd.read_csv(train_file)\n",
    "    dfTest = pd.read_csv(test_file)\n",
    "    df = pd.concat([dfTrain,dfTest], sort=False)\n",
    "    \n",
    "    num_cols = [\"ps_reg_01\", \"ps_reg_02\", \"ps_reg_03\",\"ps_car_12\", \"ps_car_13\", \"ps_car_14\", \"ps_car_15\"]\n",
    "    ignore_cols = [\"id\", \"target\", \"ps_calc_01\", \"ps_calc_02\", \"ps_calc_03\", \"ps_calc_04\", \"ps_calc_05\", \n",
    "                   \"ps_calc_06\", \"ps_calc_07\", \"ps_calc_08\", \"ps_calc_09\", \"ps_calc_10\", \"ps_calc_11\", \n",
    "                   \"ps_calc_12\", \"ps_calc_13\", \"ps_calc_14\",\"ps_calc_15_bin\", \"ps_calc_16_bin\", \n",
    "                   \"ps_calc_17_bin\",\"ps_calc_18_bin\", \"ps_calc_19_bin\", \"ps_calc_20_bin\"]\n",
    "    \n",
    "    field_size = len(df.columns) - len(ignore_cols)\n",
    "    feature_dict = {}\n",
    "    feature_size = 0\n",
    "    for col in df.columns:\n",
    "        if col in ignore_cols:\n",
    "            continue\n",
    "        elif col in num_cols:\n",
    "            feature_dict[col] = feature_size\n",
    "            feature_size += 1\n",
    "        else:\n",
    "            unique_val = df[col].unique()\n",
    "            feature_dict[col] = dict(zip(unique_val,range(feature_size,len(unique_val) + feature_size)))\n",
    "            feature_size += len(unique_val)\n",
    "\n",
    "    def transform(raw_df):\n",
    "        label = raw_df[['target']]\n",
    "        raw_df.drop(['target','id'],axis=1,inplace=True)\n",
    "\n",
    "        feature_idx = raw_df.copy()\n",
    "        feature_val = raw_df.copy()\n",
    "        for col in feature_idx.columns:\n",
    "            if col in ignore_cols:\n",
    "                feature_idx.drop(col,axis=1,inplace=True)\n",
    "                feature_val.drop(col,axis=1,inplace=True)\n",
    "                continue\n",
    "            elif col in num_cols:\n",
    "                feature_idx[col] = feature_dict[col]\n",
    "            else:\n",
    "                feature_idx[col] = feature_idx[col].map(feature_dict[col])\n",
    "                feature_val[col] = 1\n",
    "        return tf.data.Dataset.from_tensor_slices((feature_idx.values, feature_val.values, label.values))\n",
    "\n",
    "    return field_size, feature_size, transform(dfTrain)"
   ]
  },
  {
   "cell_type": "code",
   "execution_count": 4,
   "metadata": {},
   "outputs": [],
   "source": [
    "class DeepFM(tf.keras.Model):\n",
    "    def __init__(self, cfg):\n",
    "        super(DeepFM, self).__init__()\n",
    "        self.feature_size = cfg['feature_size']\n",
    "        self.field_size = cfg['field_size']\n",
    "        self.embed_size = cfg['embed_size']\n",
    "        self.deep_nn = cfg['deep_nn']\n",
    "        \n",
    "        self.dropout_fm = cfg['dropout_fm']\n",
    "        self.dropout_deep = cfg['dropout_deep']\n",
    "        \n",
    "        # fm        \n",
    "        self.feature_weight = tf.keras.layers.Embedding(cfg['feature_size'], 1)\n",
    "        self.feature_embed = tf.keras.layers.Embedding(cfg['feature_size'], cfg['embed_size'])\n",
    "\n",
    "        # dnn\n",
    "        for layer in range(len(cfg['deep_nn'])):\n",
    "            setattr(self, 'dense_' + str(layer), tf.keras.layers.Dense(self.deep_nn[layer]))\n",
    "            setattr(self, 'batchNorm_' + str(layer), tf.keras.layers.BatchNormalization())\n",
    "            setattr(self, 'activation_' + str(layer), tf.keras.layers.Activation('relu'))\n",
    "            setattr(self, 'dropout_' + str(layer), tf.keras.layers.Dropout(self.dropout_deep))\n",
    "            \n",
    "        self.fc = tf.keras.layers.Dense(1, activation='sigmoid', use_bias=True)\n",
    "\n",
    "    def call(self, feature_idx, feature_val):\n",
    "        reshaped_feature_val = tf.cast(tf.reshape(feature_val, shape=[-1,self.field_size,1]), tf.float32)\n",
    "        # linear        \n",
    "        weights = self.feature_weight(feature_idx)\n",
    "        linear = tf.reduce_sum(tf.multiply(weights,reshaped_feature_val),2)\n",
    "        \n",
    "        # fm  \n",
    "        embeddings = self.feature_embed(feature_idx)\n",
    "        second_inner = tf.multiply(embeddings,reshaped_feature_val)\n",
    "        \n",
    "        summed_features_emb = tf.reduce_sum(second_inner,1)\n",
    "        summed_features_emb_square = tf.square(summed_features_emb)\n",
    "        \n",
    "        squared_features_emb = tf.square(second_inner)\n",
    "        squared_sum_features_emb = tf.reduce_sum(squared_features_emb,1)\n",
    "        \n",
    "        fm = 0.5 * tf.subtract(summed_features_emb_square,squared_sum_features_emb)\n",
    "        \n",
    "        # dnn\n",
    "        y_deep = tf.reshape(embeddings,shape=[-1,self.field_size * self.embed_size])\n",
    "        for layer in range(0, len(self.deep_nn)):\n",
    "            y_deep = getattr(self, 'dense_' + str(layer))(y_deep)\n",
    "            y_deep = getattr(self, 'batchNorm_' + str(layer))(y_deep)\n",
    "            y_deep = getattr(self, 'activation_' + str(layer))(y_deep)\n",
    "            y_deep = getattr(self, 'dropout_' + str(layer))(y_deep)\n",
    "            \n",
    "        # concat\n",
    "        concat = tf.concat([linear, fm, y_deep], axis=1)                                \n",
    "        out = self.fc(concat)\n",
    "        return out"
   ]
  },
  {
   "cell_type": "code",
   "execution_count": 5,
   "metadata": {},
   "outputs": [],
   "source": [
    "def fit(input, cfg):\n",
    "    model = DeepFM(cfg)\n",
    "    loss_val = []\n",
    "    train = input.shuffle(10000).batch(cfg['batch'])\n",
    "    for epoch in range(int(cfg['epoch'])):\n",
    "        batch_idx = 0\n",
    "        for idx, val, label in train:\n",
    "            with tf.GradientTape() as tape:\n",
    "                y = model(idx, val)\n",
    "                bce = tf.keras.losses.BinaryCrossentropy(from_logits=True)\n",
    "                loss = bce(y_true=label, y_pred=y)\n",
    "            grads = tape.gradient(loss, model.trainable_variables)\n",
    "            optimizer = tf.keras.optimizers.Adam(learning_rate=0.0001)\n",
    "            optimizer.apply_gradients(zip(grads, model.trainable_variables))\n",
    "            batch_idx += 1\n",
    "            # tf.print('batch_idx:', batch_idx, 'loss:', loss)\n",
    "        loss_val.append(loss)\n",
    "        tf.print(\"Epoch {}/{}　Loss: {}\".format(epoch, cfg['epoch'], loss))\n",
    "    return loss_val"
   ]
  },
  {
   "cell_type": "code",
   "execution_count": 6,
   "metadata": {},
   "outputs": [],
   "source": [
    "field_size, feature_size, train = preprocess(train_file, test_file)"
   ]
  },
  {
   "cell_type": "code",
   "execution_count": 7,
   "metadata": {},
   "outputs": [],
   "source": [
    "cfg = {\n",
    "    \"feature_size\": feature_size,\n",
    "    \"field_size\": field_size,\n",
    "    \"embed_size\":8,\n",
    "    \"deep_nn\":[32,32],\n",
    "    \"dropout_fm\": 0,\n",
    "    \"dropout_deep\": 0.2,\n",
    "    \"epoch\":20,\n",
    "    \"batch\":10000\n",
    "}"
   ]
  },
  {
   "cell_type": "code",
   "execution_count": 8,
   "metadata": {},
   "outputs": [
    {
     "name": "stdout",
     "output_type": "stream",
     "text": [
      "Epoch 0/20　Loss: 0.9228009581565857\n",
      "Epoch 1/20　Loss: 0.8883423209190369\n",
      "Epoch 2/20　Loss: 0.8454411625862122\n",
      "Epoch 3/20　Loss: 0.8008630275726318\n",
      "Epoch 4/20　Loss: 0.7582089900970459\n",
      "Epoch 5/20　Loss: 0.7258159518241882\n",
      "Epoch 6/20　Loss: 0.7061982154846191\n",
      "Epoch 7/20　Loss: 0.6972800493240356\n",
      "Epoch 8/20　Loss: 0.6941609382629395\n",
      "Epoch 9/20　Loss: 0.6933595538139343\n",
      "Epoch 10/20　Loss: 0.6931925415992737\n",
      "Epoch 11/20　Loss: 0.6931597590446472\n",
      "Epoch 12/20　Loss: 0.6931519508361816\n",
      "Epoch 13/20　Loss: 0.6931494474411011\n",
      "Epoch 14/20　Loss: 0.6931486129760742\n",
      "Epoch 15/20　Loss: 0.693148136138916\n",
      "Epoch 16/20　Loss: 0.6931477785110474\n",
      "Epoch 17/20　Loss: 0.6931476593017578\n",
      "Epoch 18/20　Loss: 0.6931475400924683\n",
      "Epoch 19/20　Loss: 0.6931475400924683\n"
     ]
    }
   ],
   "source": [
    "loss_val = fit(train, cfg)"
   ]
  },
  {
   "cell_type": "code",
   "execution_count": 9,
   "metadata": {},
   "outputs": [
    {
     "data": {
      "image/png": "[encoded data removed]",
      "text/plain": [
       "<Figure size 432x288 with 1 Axes>"
      ]
     },
     "metadata": {
      "needs_background": "light"
     },
     "output_type": "display_data"
    }
   ],
   "source": [
    "plt.xlabel('epoch')\n",
    "plt.ylabel('loss')\n",
    "plt.plot([i for i in range(cfg['epoch'])], loss_val)\n",
    "plt.show()"
   ]
  }
 ],
 "metadata": {
  "kernelspec": {
   "display_name": "Python 3",
   "language": "python",
   "name": "python3"
  },
  "language_info": {
   "codemirror_mode": {
    "name": "ipython",
    "version": 3
   },
   "file_extension": ".py",
   "mimetype": "text/x-python",
   "name": "python",
   "nbconvert_exporter": "python",
   "pygments_lexer": "ipython3",
   "version": "3.7.3"
  }
 },
 "nbformat": 4,
 "nbformat_minor": 4
}
