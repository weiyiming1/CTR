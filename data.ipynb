{
 "cells": [
  {
   "cell_type": "code",
   "execution_count": 1,
   "metadata": {},
   "outputs": [],
   "source": [
    "import tensorflow as tf\n",
    "import pandas as pd\n",
    "import numpy as np"
   ]
  },
  {
   "cell_type": "code",
   "execution_count": 2,
   "metadata": {},
   "outputs": [],
   "source": [
    "train_file = \"./train.csv\"\n",
    "test_file = \"./test.csv\""
   ]
  },
  {
   "cell_type": "code",
   "execution_count": null,
   "metadata": {},
   "outputs": [],
   "source": [
    "def preprocess(train_file, test_file):\n",
    "    dfTrain = pd.read_csv(train_file)\n",
    "    dfTest = pd.read_csv(test_file)\n",
    "    df = pd.concat([dfTrain,dfTest], sort=False)\n",
    "    \n",
    "    num_cols = [\n",
    "        \"ps_reg_01\", \"ps_reg_02\", \"ps_reg_03\",\n",
    "        \"ps_car_12\", \"ps_car_13\", \"ps_car_14\", \"ps_car_15\"\n",
    "    ]\n",
    "\n",
    "    ignore_cols = [\n",
    "        \"id\", \"target\",\n",
    "        \"ps_calc_01\", \"ps_calc_02\", \"ps_calc_03\", \"ps_calc_04\",\n",
    "        \"ps_calc_05\", \"ps_calc_06\", \"ps_calc_07\", \"ps_calc_08\",\n",
    "        \"ps_calc_09\", \"ps_calc_10\", \"ps_calc_11\", \"ps_calc_12\",\n",
    "        \"ps_calc_13\", \"ps_calc_14\",\n",
    "        \"ps_calc_15_bin\", \"ps_calc_16_bin\", \"ps_calc_17_bin\",\n",
    "        \"ps_calc_18_bin\", \"ps_calc_19_bin\", \"ps_calc_20_bin\"\n",
    "    ]\n",
    "    \n",
    "    feature_dict = {}\n",
    "    total_feature = 0\n",
    "    for col in df.columns:\n",
    "        if col in ignore_cols:\n",
    "            continue\n",
    "        elif col in num_cols:\n",
    "            feature_dict[col] = total_feature\n",
    "            total_feature += 1\n",
    "        else:\n",
    "            unique_val = df[col].unique()\n",
    "            feature_dict[col] = dict(zip(unique_val,range(total_feature,len(unique_val) + total_feature)))\n",
    "            total_feature += len(unique_val)\n",
    "            \n",
    "    "
   ]
  },
  {
   "cell_type": "code",
   "execution_count": 3,
   "metadata": {},
   "outputs": [],
   "source": [
    "dfTrain = pd.read_csv(train_file)\n",
    "dfTest = pd.read_csv(test_file)\n",
    "df = pd.concat([dfTrain,dfTest], sort=False)"
   ]
  },
  {
   "cell_type": "code",
   "execution_count": 4,
   "metadata": {},
   "outputs": [],
   "source": [
    "num_cols = [\n",
    "    \"ps_reg_01\", \"ps_reg_02\", \"ps_reg_03\",\n",
    "    \"ps_car_12\", \"ps_car_13\", \"ps_car_14\", \"ps_car_15\"\n",
    "]\n",
    "\n",
    "ignore_cols = [\n",
    "    \"id\", \"target\",\n",
    "    \"ps_calc_01\", \"ps_calc_02\", \"ps_calc_03\", \"ps_calc_04\",\n",
    "    \"ps_calc_05\", \"ps_calc_06\", \"ps_calc_07\", \"ps_calc_08\",\n",
    "    \"ps_calc_09\", \"ps_calc_10\", \"ps_calc_11\", \"ps_calc_12\",\n",
    "    \"ps_calc_13\", \"ps_calc_14\",\n",
    "    \"ps_calc_15_bin\", \"ps_calc_16_bin\", \"ps_calc_17_bin\",\n",
    "    \"ps_calc_18_bin\", \"ps_calc_19_bin\", \"ps_calc_20_bin\"\n",
    "]"
   ]
  },
  {
   "cell_type": "code",
   "execution_count": 5,
   "metadata": {},
   "outputs": [],
   "source": [
    "feature_dict = {}\n",
    "total_feature = 0\n",
    "for col in df.columns:\n",
    "    if col in ignore_cols:\n",
    "        continue\n",
    "    elif col in num_cols:\n",
    "        feature_dict[col] = total_feature\n",
    "        total_feature += 1\n",
    "    else:\n",
    "        unique_val = df[col].unique()\n",
    "        feature_dict[col] = dict(zip(unique_val,range(total_feature,len(unique_val) + total_feature)))\n",
    "        total_feature += len(unique_val)"
   ]
  },
  {
   "cell_type": "code",
   "execution_count": 6,
   "metadata": {},
   "outputs": [],
   "source": [
    "train_y = dfTrain[['target']]"
   ]
  },
  {
   "cell_type": "code",
   "execution_count": 7,
   "metadata": {},
   "outputs": [],
   "source": [
    "dfTrain.drop(['target','id'],axis=1,inplace=True)\n",
    "train_feature_index = dfTrain.copy()\n",
    "train_feature_value = dfTrain.copy()\n",
    "\n",
    "for col in train_feature_index.columns:\n",
    "    if col in ignore_cols:\n",
    "        train_feature_index.drop(col,axis=1,inplace=True)\n",
    "        train_feature_value.drop(col,axis=1,inplace=True)\n",
    "        continue\n",
    "    elif col in num_cols:\n",
    "        train_feature_index[col] = feature_dict[col]\n",
    "    else:\n",
    "        train_feature_index[col] = train_feature_index[col].map(feature_dict[col])\n",
    "        train_feature_value[col] = 1"
   ]
  },
  {
   "cell_type": "code",
   "execution_count": 8,
   "metadata": {},
   "outputs": [
    {
     "data": {
      "text/plain": [
       "257"
      ]
     },
     "execution_count": 8,
     "metadata": {},
     "output_type": "execute_result"
    }
   ],
   "source": [
    "total_feature"
   ]
  },
  {
   "cell_type": "code",
   "execution_count": 9,
   "metadata": {},
   "outputs": [
    {
     "data": {
      "text/html": [
       "<div>\n",
       "<style scoped>\n",
       "    .dataframe tbody tr th:only-of-type {\n",
       "        vertical-align: middle;\n",
       "    }\n",
       "\n",
       "    .dataframe tbody tr th {\n",
       "        vertical-align: top;\n",
       "    }\n",
       "\n",
       "    .dataframe thead th {\n",
       "        text-align: right;\n",
       "    }\n",
       "</style>\n",
       "<table border=\"1\" class=\"dataframe\">\n",
       "  <thead>\n",
       "    <tr style=\"text-align: right;\">\n",
       "      <th></th>\n",
       "      <th>ps_ind_01</th>\n",
       "      <th>ps_ind_02_cat</th>\n",
       "      <th>ps_ind_03</th>\n",
       "      <th>ps_ind_04_cat</th>\n",
       "      <th>ps_ind_05_cat</th>\n",
       "      <th>ps_ind_06_bin</th>\n",
       "      <th>ps_ind_07_bin</th>\n",
       "      <th>ps_ind_08_bin</th>\n",
       "      <th>ps_ind_09_bin</th>\n",
       "      <th>ps_ind_10_bin</th>\n",
       "      <th>...</th>\n",
       "      <th>ps_car_07_cat</th>\n",
       "      <th>ps_car_08_cat</th>\n",
       "      <th>ps_car_09_cat</th>\n",
       "      <th>ps_car_10_cat</th>\n",
       "      <th>ps_car_11_cat</th>\n",
       "      <th>ps_car_11</th>\n",
       "      <th>ps_car_12</th>\n",
       "      <th>ps_car_13</th>\n",
       "      <th>ps_car_14</th>\n",
       "      <th>ps_car_15</th>\n",
       "    </tr>\n",
       "  </thead>\n",
       "  <tbody>\n",
       "    <tr>\n",
       "      <th>0</th>\n",
       "      <td>0</td>\n",
       "      <td>8</td>\n",
       "      <td>13</td>\n",
       "      <td>25</td>\n",
       "      <td>28</td>\n",
       "      <td>36</td>\n",
       "      <td>38</td>\n",
       "      <td>40</td>\n",
       "      <td>42</td>\n",
       "      <td>44</td>\n",
       "      <td>...</td>\n",
       "      <td>130</td>\n",
       "      <td>133</td>\n",
       "      <td>135</td>\n",
       "      <td>141</td>\n",
       "      <td>144</td>\n",
       "      <td>248</td>\n",
       "      <td>253</td>\n",
       "      <td>254</td>\n",
       "      <td>255</td>\n",
       "      <td>256</td>\n",
       "    </tr>\n",
       "    <tr>\n",
       "      <th>1</th>\n",
       "      <td>1</td>\n",
       "      <td>9</td>\n",
       "      <td>14</td>\n",
       "      <td>26</td>\n",
       "      <td>28</td>\n",
       "      <td>36</td>\n",
       "      <td>39</td>\n",
       "      <td>41</td>\n",
       "      <td>42</td>\n",
       "      <td>44</td>\n",
       "      <td>...</td>\n",
       "      <td>130</td>\n",
       "      <td>134</td>\n",
       "      <td>136</td>\n",
       "      <td>141</td>\n",
       "      <td>145</td>\n",
       "      <td>249</td>\n",
       "      <td>253</td>\n",
       "      <td>254</td>\n",
       "      <td>255</td>\n",
       "      <td>256</td>\n",
       "    </tr>\n",
       "    <tr>\n",
       "      <th>2</th>\n",
       "      <td>2</td>\n",
       "      <td>10</td>\n",
       "      <td>15</td>\n",
       "      <td>25</td>\n",
       "      <td>28</td>\n",
       "      <td>36</td>\n",
       "      <td>39</td>\n",
       "      <td>41</td>\n",
       "      <td>42</td>\n",
       "      <td>44</td>\n",
       "      <td>...</td>\n",
       "      <td>130</td>\n",
       "      <td>134</td>\n",
       "      <td>136</td>\n",
       "      <td>141</td>\n",
       "      <td>146</td>\n",
       "      <td>250</td>\n",
       "      <td>253</td>\n",
       "      <td>254</td>\n",
       "      <td>255</td>\n",
       "      <td>256</td>\n",
       "    </tr>\n",
       "    <tr>\n",
       "      <th>3</th>\n",
       "      <td>3</td>\n",
       "      <td>9</td>\n",
       "      <td>16</td>\n",
       "      <td>26</td>\n",
       "      <td>28</td>\n",
       "      <td>37</td>\n",
       "      <td>39</td>\n",
       "      <td>40</td>\n",
       "      <td>42</td>\n",
       "      <td>44</td>\n",
       "      <td>...</td>\n",
       "      <td>130</td>\n",
       "      <td>134</td>\n",
       "      <td>137</td>\n",
       "      <td>141</td>\n",
       "      <td>147</td>\n",
       "      <td>250</td>\n",
       "      <td>253</td>\n",
       "      <td>254</td>\n",
       "      <td>255</td>\n",
       "      <td>256</td>\n",
       "    </tr>\n",
       "    <tr>\n",
       "      <th>4</th>\n",
       "      <td>3</td>\n",
       "      <td>8</td>\n",
       "      <td>17</td>\n",
       "      <td>25</td>\n",
       "      <td>28</td>\n",
       "      <td>37</td>\n",
       "      <td>39</td>\n",
       "      <td>40</td>\n",
       "      <td>42</td>\n",
       "      <td>44</td>\n",
       "      <td>...</td>\n",
       "      <td>130</td>\n",
       "      <td>134</td>\n",
       "      <td>136</td>\n",
       "      <td>141</td>\n",
       "      <td>148</td>\n",
       "      <td>249</td>\n",
       "      <td>253</td>\n",
       "      <td>254</td>\n",
       "      <td>255</td>\n",
       "      <td>256</td>\n",
       "    </tr>\n",
       "  </tbody>\n",
       "</table>\n",
       "<p>5 rows × 37 columns</p>\n",
       "</div>"
      ],
      "text/plain": [
       "   ps_ind_01  ps_ind_02_cat  ps_ind_03  ps_ind_04_cat  ps_ind_05_cat  \\\n",
       "0          0              8         13             25             28   \n",
       "1          1              9         14             26             28   \n",
       "2          2             10         15             25             28   \n",
       "3          3              9         16             26             28   \n",
       "4          3              8         17             25             28   \n",
       "\n",
       "   ps_ind_06_bin  ps_ind_07_bin  ps_ind_08_bin  ps_ind_09_bin  ps_ind_10_bin  \\\n",
       "0             36             38             40             42             44   \n",
       "1             36             39             41             42             44   \n",
       "2             36             39             41             42             44   \n",
       "3             37             39             40             42             44   \n",
       "4             37             39             40             42             44   \n",
       "\n",
       "   ...  ps_car_07_cat  ps_car_08_cat  ps_car_09_cat  ps_car_10_cat  \\\n",
       "0  ...            130            133            135            141   \n",
       "1  ...            130            134            136            141   \n",
       "2  ...            130            134            136            141   \n",
       "3  ...            130            134            137            141   \n",
       "4  ...            130            134            136            141   \n",
       "\n",
       "   ps_car_11_cat  ps_car_11  ps_car_12  ps_car_13  ps_car_14  ps_car_15  \n",
       "0            144        248        253        254        255        256  \n",
       "1            145        249        253        254        255        256  \n",
       "2            146        250        253        254        255        256  \n",
       "3            147        250        253        254        255        256  \n",
       "4            148        249        253        254        255        256  \n",
       "\n",
       "[5 rows x 37 columns]"
      ]
     },
     "execution_count": 9,
     "metadata": {},
     "output_type": "execute_result"
    }
   ],
   "source": [
    "train_feature_index.head(5)"
   ]
  },
  {
   "cell_type": "code",
   "execution_count": 10,
   "metadata": {},
   "outputs": [
    {
     "data": {
      "text/html": [
       "<div>\n",
       "<style scoped>\n",
       "    .dataframe tbody tr th:only-of-type {\n",
       "        vertical-align: middle;\n",
       "    }\n",
       "\n",
       "    .dataframe tbody tr th {\n",
       "        vertical-align: top;\n",
       "    }\n",
       "\n",
       "    .dataframe thead th {\n",
       "        text-align: right;\n",
       "    }\n",
       "</style>\n",
       "<table border=\"1\" class=\"dataframe\">\n",
       "  <thead>\n",
       "    <tr style=\"text-align: right;\">\n",
       "      <th></th>\n",
       "      <th>target</th>\n",
       "    </tr>\n",
       "  </thead>\n",
       "  <tbody>\n",
       "    <tr>\n",
       "      <th>0</th>\n",
       "      <td>0</td>\n",
       "    </tr>\n",
       "    <tr>\n",
       "      <th>1</th>\n",
       "      <td>0</td>\n",
       "    </tr>\n",
       "    <tr>\n",
       "      <th>2</th>\n",
       "      <td>0</td>\n",
       "    </tr>\n",
       "    <tr>\n",
       "      <th>3</th>\n",
       "      <td>0</td>\n",
       "    </tr>\n",
       "    <tr>\n",
       "      <th>4</th>\n",
       "      <td>0</td>\n",
       "    </tr>\n",
       "  </tbody>\n",
       "</table>\n",
       "</div>"
      ],
      "text/plain": [
       "   target\n",
       "0       0\n",
       "1       0\n",
       "2       0\n",
       "3       0\n",
       "4       0"
      ]
     },
     "execution_count": 10,
     "metadata": {},
     "output_type": "execute_result"
    }
   ],
   "source": [
    "train_y.head(5)"
   ]
  },
  {
   "cell_type": "code",
   "execution_count": 11,
   "metadata": {},
   "outputs": [],
   "source": [
    "dataset = tf.data.Dataset.from_tensor_slices((train_feature_index.values, \n",
    "                                              train_feature_value.values,\n",
    "                                              train_y.values))\n",
    "#for idx, val, label in dataset.take(1):\n",
    "#    print('idx: {}, val: {}, label: {}'.format(idx, val, label))"
   ]
  },
  {
   "cell_type": "code",
   "execution_count": 12,
   "metadata": {},
   "outputs": [],
   "source": [
    "class DeepFM(tf.keras.Model):\n",
    "    def __init__(self, cfg):\n",
    "        super(DeepFM, self).__init__()\n",
    "        self.feature_size = cfg['feature_size']\n",
    "        self.field_size = cfg['field_size']\n",
    "        self.embed_size = cfg['embed_size']\n",
    "        self.deep_nn = cfg['deep_nn']\n",
    "        \n",
    "        self.dropout_fm = cfg['dropout_fm']\n",
    "        self.dropout_deep = cfg['dropout_deep']\n",
    "        \n",
    "        # fm        \n",
    "        self.feature_weight = tf.keras.layers.Embedding(cfg['feature_size'], 1)\n",
    "        self.feature_embed = tf.keras.layers.Embedding(cfg['feature_size'], cfg['embed_size'])\n",
    "\n",
    "        # dnn\n",
    "        for layer in range(len(cfg['deep_nn'])):\n",
    "            setattr(self, 'dense_' + str(layer), tf.keras.layers.Dense(self.deep_nn[layer]))\n",
    "            setattr(self, 'batchNorm_' + str(layer), tf.keras.layers.BatchNormalization())\n",
    "            setattr(self, 'activation_' + str(layer), tf.keras.layers.Activation('relu'))\n",
    "            setattr(self, 'dropout_' + str(layer), tf.keras.layers.Dropout(self.dropout_deep))\n",
    "            \n",
    "        self.fc = tf.keras.layers.Dense(1, activation='sigmoid', use_bias=True)\n",
    "\n",
    "    def call(self, feature_idx, feature_val):\n",
    "        reshaped_feature_val = tf.cast(tf.reshape(feature_val, shape=[-1,self.field_size,1]), tf.float32)\n",
    "        # linear        \n",
    "        weights = self.feature_weight(feature_idx)\n",
    "        linear = tf.reduce_sum(tf.multiply(weights,reshaped_feature_val),2)\n",
    "        \n",
    "        # fm  \n",
    "        embeddings = self.feature_embed(feature_idx)\n",
    "        second_inner = tf.multiply(embeddings,reshaped_feature_val)\n",
    "        \n",
    "        summed_features_emb = tf.reduce_sum(second_inner,1)\n",
    "        summed_features_emb_square = tf.square(summed_features_emb)\n",
    "        \n",
    "        squared_features_emb = tf.square(second_inner)\n",
    "        squared_sum_features_emb = tf.reduce_sum(squared_features_emb,1)\n",
    "        \n",
    "        fm = 0.5 * tf.subtract(summed_features_emb_square,squared_sum_features_emb)\n",
    "        \n",
    "        # dnn\n",
    "        y_deep = tf.reshape(embeddings,shape=[-1,self.field_size * self.embed_size])\n",
    "        for layer in range(0, len(self.deep_nn)):\n",
    "            y_deep = getattr(self, 'dense_' + str(layer))(y_deep)\n",
    "            y_deep = getattr(self, 'batchNorm_' + str(layer))(y_deep)\n",
    "            y_deep = getattr(self, 'activation_' + str(layer))(y_deep)\n",
    "            y_deep = getattr(self, 'dropout_' + str(layer))(y_deep)\n",
    "            \n",
    "        # concat\n",
    "        concat = tf.concat([linear, fm, y_deep], axis=1)                                \n",
    "        out = self.fc(concat)\n",
    "        return out"
   ]
  },
  {
   "cell_type": "code",
   "execution_count": 28,
   "metadata": {},
   "outputs": [],
   "source": [
    "cfg = {\n",
    "    \"feature_size\": total_feature,\n",
    "    \"field_size\": len(train_feature_index.columns),\n",
    "    \"embed_size\":8,\n",
    "    \"deep_nn\":[32,32],\n",
    "    \"dropout_fm\": 0,\n",
    "    \"dropout_deep\": 0.2,\n",
    "    \"epoch\":20,\n",
    "    \"batch\":10000\n",
    "}"
   ]
  },
  {
   "cell_type": "code",
   "execution_count": 29,
   "metadata": {},
   "outputs": [],
   "source": [
    "def train(input, cfg):\n",
    "    model = DeepFM(cfg)\n",
    "    loss_val = []\n",
    "    train = input.shuffle(10000).batch(cfg['batch'])\n",
    "    for epoch in range(int(cfg['epoch'])):\n",
    "        batch_idx = 0\n",
    "        for idx, val, label in train:\n",
    "            with tf.GradientTape() as tape:\n",
    "                y = model(idx, val)\n",
    "                bce = tf.keras.losses.BinaryCrossentropy(from_logits=True)\n",
    "                loss = bce(y_true=label, y_pred=y)\n",
    "            grads = tape.gradient(loss, model.trainable_variables)\n",
    "            optimizer = tf.keras.optimizers.Adam(learning_rate=0.0001)\n",
    "            optimizer.apply_gradients(zip(grads, model.trainable_variables))\n",
    "            batch_idx += 1\n",
    "            # tf.print('batch_idx:', batch_idx, 'loss:', loss)\n",
    "        loss_val.append(loss)\n",
    "        tf.print(\"Epoch {}/{}　Loss: {}\".format(epoch, cfg['epoch'], loss))\n",
    "    return loss_val"
   ]
  },
  {
   "cell_type": "code",
   "execution_count": 30,
   "metadata": {},
   "outputs": [
    {
     "name": "stdout",
     "output_type": "stream",
     "text": [
      "Epoch 0/20　Loss: 0.9300224184989929\n",
      "Epoch 1/20　Loss: 0.8796793222427368\n",
      "Epoch 2/20　Loss: 0.8209131956100464\n",
      "Epoch 3/20　Loss: 0.7631147503852844\n",
      "Epoch 4/20　Loss: 0.7206069827079773\n",
      "Epoch 5/20　Loss: 0.7007134556770325\n",
      "Epoch 6/20　Loss: 0.6945783495903015\n",
      "Epoch 7/20　Loss: 0.6933578848838806\n",
      "Epoch 8/20　Loss: 0.6931819319725037\n",
      "Epoch 9/20　Loss: 0.6931560039520264\n",
      "Epoch 10/20　Loss: 0.6931505799293518\n",
      "Epoch 11/20　Loss: 0.6931488513946533\n",
      "Epoch 12/20　Loss: 0.693148136138916\n",
      "Epoch 13/20　Loss: 0.6931478977203369\n",
      "Epoch 14/20　Loss: 0.6931476593017578\n",
      "Epoch 15/20　Loss: 0.693147599697113\n",
      "Epoch 16/20　Loss: 0.6931475400924683\n",
      "Epoch 17/20　Loss: 0.6931474208831787\n",
      "Epoch 18/20　Loss: 0.6931474208831787\n",
      "Epoch 19/20　Loss: 0.6931473612785339\n"
     ]
    }
   ],
   "source": [
    "loss_val = train(dataset, cfg)"
   ]
  },
  {
   "cell_type": "code",
   "execution_count": 31,
   "metadata": {},
   "outputs": [
    {
     "data": {
      "image/png": "[encoded data removed]",
      "text/plain": [
       "<Figure size 432x288 with 1 Axes>"
      ]
     },
     "metadata": {
      "needs_background": "light"
     },
     "output_type": "display_data"
    }
   ],
   "source": [
    "from matplotlib import pyplot as plt\n",
    "\n",
    "plt.xlabel('epoch')\n",
    "plt.ylabel('loss')\n",
    "plt.plot([i for i in range(cfg['epoch'])], loss_val)\n",
    "plt.show()"
   ]
  },
  {
   "cell_type": "code",
   "execution_count": null,
   "metadata": {},
   "outputs": [],
   "source": [
    "\n"
   ]
  },
  {
   "cell_type": "code",
   "execution_count": null,
   "metadata": {},
   "outputs": [],
   "source": [
    "\n",
    "    "
   ]
  }
 ],
 "metadata": {
  "kernelspec": {
   "display_name": "Python 3",
   "language": "python",
   "name": "python3"
  },
  "language_info": {
   "codemirror_mode": {
    "name": "ipython",
    "version": 3
   },
   "file_extension": ".py",
   "mimetype": "text/x-python",
   "name": "python",
   "nbconvert_exporter": "python",
   "pygments_lexer": "ipython3",
   "version": "3.7.3"
  },
  "pycharm": {
   "stem_cell": {
    "cell_type": "raw",
    "metadata": {
     "collapsed": false
    },
    "source": []
   }
  }
 },
 "nbformat": 4,
 "nbformat_minor": 4
}
